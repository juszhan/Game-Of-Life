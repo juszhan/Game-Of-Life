{
 "cells": [
  {
   "cell_type": "code",
   "execution_count": 1,
   "id": "22bf2148",
   "metadata": {},
   "outputs": [],
   "source": [
    "import functools\n",
    "import random\n",
    "from enum import IntEnum\n",
    "from typing import Iterable\n",
    "\n",
    "random.seed(0)\n",
    "\n",
    "class CellState(IntEnum):\n",
    "    DEAD = 0\n",
    "    LIVE = 1\n",
    "    \n",
    "    def __add__(self, other: int) -> int:\n",
    "        return self.value + other\n",
    "    \n",
    "    def __str__(self) -> str:\n",
    "        return str(self.value)"
   ]
  },
  {
   "cell_type": "code",
   "execution_count": 2,
   "id": "9be5aa3b",
   "metadata": {},
   "outputs": [],
   "source": [
    "class GameOfLife:\n",
    "    def __init__(self, length: int, height: int) -> None:\n",
    "        if (length <= 0):\n",
    "            raise ValueError(\"Grid length must be > 0\")\n",
    "        elif (height <= 0):\n",
    "            raise ValueError(\"Grid height must be > 0\")\n",
    "        \n",
    "        self.length: int = length\n",
    "        self.height: int = height\n",
    "        \n",
    "        # initialize a blank grid of all dead cells\n",
    "        self.grid: list[list[CellState]] = [[CellState.DEAD for __ in range(self.length)] for _ in range(self.height)]\n",
    "    \n",
    "    def initialize_grid(self, live_threshold: float) -> None:\n",
    "        if (live_threshold <= 0 or live_threshold >= 1):\n",
    "            raise ValueError(\"Live threshold must be between (0, 1)\")\n",
    "        \n",
    "        # randomly initialize the grid state\n",
    "        for y in range(self.height):\n",
    "            for x in range(self.length):\n",
    "                self.grid[y][x] = CellState.DEAD if random.random() < live_threshold else CellState.LIVE\n",
    "    \n",
    "    def print_grid(self) -> None:\n",
    "        for row in self.grid:\n",
    "            print(\" \".join([str(col) for col in row]))\n",
    "    \n",
    "    def next(self) -> None:\n",
    "        # initialize a blank grid of all dead cells\n",
    "        next_grid = [[CellState.DEAD for __ in range(self.length)] for _ in range(self.height)]\n",
    "        \n",
    "        for y in range(self.height):\n",
    "            for x in range(self.length):\n",
    "                next_grid[y][x] = self.__apply_rules(cell_state=self.grid[y][x],\n",
    "                                                     live_neighbors=self.__count_live_neighbors(y, x))\n",
    "        \n",
    "        self.grid = next_grid\n",
    "    \n",
    "    def __count_live_neighbors(self, y: int, x: int) -> int:\n",
    "        return functools.reduce(lambda acc, val: acc + val, self.__get_neighbor_states(y, x), 0)\n",
    "    \n",
    "    def __get_neighbor_states(self, y: int, x: int) -> Iterable[CellState]:\n",
    "        '''\n",
    "        The four edges of the grid are stitched together like a toroidal array.\n",
    "        '''\n",
    "        for row_shift in [-1, 0, 1]:\n",
    "            x_neighbor: int = x + row_shift\n",
    "            if x_neighbor == self.length:\n",
    "                x_neighbor = 0\n",
    "                \n",
    "            for col_shift in [-1, 0, 1]:\n",
    "                y_neighbor: int = y + col_shift\n",
    "                if y_neighbor == self.height:\n",
    "                    y_neighbor = 0\n",
    "                    \n",
    "                if (not (x_neighbor == x and y_neighbor == y)):\n",
    "                    yield self.grid[y_neighbor][x_neighbor]\n",
    "    \n",
    "    def __apply_rules(self, cell_state: CellState, live_neighbors: int) -> CellState:\n",
    "        '''\n",
    "        Every cell interacts with its eight neighbours, which are the cells that are horizontally, vertically, or diagonally adjacent.\n",
    "        At each step in time, the following transitions occur:\n",
    "        1. Any live cell with two or three live neighbours survives.\n",
    "        2. Any dead cell with three live neighbours becomes a live cell.\n",
    "        3. All other live cells die in the next generation. Similarly, all other dead cells stay dead.\n",
    "        '''\n",
    "        next_state: CellState = CellState.DEAD\n",
    "        \n",
    "        if cell_state is CellState.LIVE and (live_neighbors == 2 or live_neighbors == 3):\n",
    "            next_state = CellState.LIVE\n",
    "        elif cell_state is CellState.DEAD and live_neighbors == 3:\n",
    "            next_state = CellState.LIVE\n",
    "        \n",
    "        return next_state\n",
    "        "
   ]
  },
  {
   "cell_type": "code",
   "execution_count": 3,
   "id": "26a80f59",
   "metadata": {},
   "outputs": [
    {
     "name": "stdout",
     "output_type": "stream",
     "text": [
      "1 1 0 0 0 0 1 0 0 0\n",
      "1 0 0 1 0 0 1 1 1 1\n",
      "0 1 1 0 0 0 0 0 1 1\n",
      "0 1 0 1 0 0 1 0 1 0\n",
      "0 0 1 0 0 1 0 0 0 1\n",
      "1 0 0 0 0 1 0 0 1 0\n",
      "1 0 1 0 0 0 0 0 0 0\n",
      "0 0 0 0 0 0 1 1 1 1\n",
      "1 1 0 0 1 0 1 1 1 0\n",
      "1 0 0 0 1 1 1 0 0 0\n"
     ]
    }
   ],
   "source": [
    "# print a small grid for testing\n",
    "board = GameOfLife(length=10, height=10)\n",
    "board.initialize_grid(live_threshold=.70)\n",
    "board.print_grid()"
   ]
  },
  {
   "cell_type": "code",
   "execution_count": 4,
   "id": "6c75d747",
   "metadata": {},
   "outputs": [],
   "source": [
    "from matplotlib import pyplot as plt\n",
    "from matplotlib import animation\n",
    "from matplotlib import colors as Colors"
   ]
  },
  {
   "cell_type": "code",
   "execution_count": 5,
   "id": "67a719e8",
   "metadata": {},
   "outputs": [
    {
     "data": {
      "image/png": "[encoded data removed]",
      "text/plain": [
       "<Figure size 720x720 with 1 Axes>"
      ]
     },
     "metadata": {
      "needs_background": "light"
     },
     "output_type": "display_data"
    }
   ],
   "source": [
    "board = GameOfLife(length=80, height=80)\n",
    "board.initialize_grid(live_threshold=.50)\n",
    "\n",
    "fig_size_ratio = board.length / board.height\n",
    "\n",
    "fig, ax = plt.subplots(figsize=(fig_size_ratio * 10, 10))\n",
    "fig.subplots_adjust(left=0, bottom=0, right=1, top=1, wspace=None, hspace=None)\n",
    "ax.axis(\"off\")\n",
    "\n",
    "im = ax.imshow(board.grid, cmap=Colors.ListedColormap([\"black\", \"white\"]))\n",
    "\n",
    "def animate(i):\n",
    "    board.next()\n",
    "    im.set_array(board.grid)\n",
    "    return [im]\n",
    "\n",
    "anim = animation.FuncAnimation(fig, animate, frames=180, interval=0, repeat_delay=5000, blit=True)\n",
    "\n",
    "anim.save(\"animation.gif\", writer=\"pillow\", fps=3, dpi=150, bitrate=-1)"
   ]
  }
 ],
 "metadata": {
  "kernelspec": {
   "display_name": "Python 3 (ipykernel)",
   "language": "python",
   "name": "python3"
  },
  "language_info": {
   "codemirror_mode": {
    "name": "ipython",
    "version": 3
   },
   "file_extension": ".py",
   "mimetype": "text/x-python",
   "name": "python",
   "nbconvert_exporter": "python",
   "pygments_lexer": "ipython3",
   "version": "3.9.7"
  }
 },
 "nbformat": 4,
 "nbformat_minor": 5
}
